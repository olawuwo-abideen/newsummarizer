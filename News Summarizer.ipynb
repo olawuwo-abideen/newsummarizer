{
 "cells": [
  {
   "cell_type": "markdown",
   "id": "73a819d0",
   "metadata": {},
   "source": [
    "### News Extraction\n",
    "\n",
    "### Import Package "
   ]
  },
  {
   "cell_type": "code",
   "execution_count": 1,
   "id": "b7a76180",
   "metadata": {},
   "outputs": [],
   "source": [
    "from bs4 import BeautifulSoup\n",
    "import requests "
   ]
  },
  {
   "cell_type": "markdown",
   "id": "f8e46957",
   "metadata": {},
   "source": [
    "### Creating a Function to Extract only Text from p Tags"
   ]
  },
  {
   "cell_type": "code",
   "execution_count": 2,
   "id": "e47bafd4",
   "metadata": {},
   "outputs": [],
   "source": [
    "def get_only_text(url):\n",
    "    \n",
    " \"\"\"\n",
    "    return the title and the text of the article \n",
    "    at the specified url\n",
    "    \n",
    " \"\"\"\n",
    "\n",
    " page = requests.get(url)\n",
    " soup = BeautifulSoup(page.content, 'lxml')\n",
    " text = ' '.join(map(lambda p: p.text, soup.find_all('p')))\n",
    " #text = soup.text\n",
    " title = ' '.join(soup.title.stripped_strings)\n",
    " return title , text"
   ]
  },
  {
   "cell_type": "markdown",
   "id": "6e45c6fe",
   "metadata": {},
   "source": [
    "### Calling the function with the desired News URL"
   ]
  },
  {
   "cell_type": "code",
   "execution_count": 3,
   "id": "50725b2d",
   "metadata": {},
   "outputs": [],
   "source": [
    "text = get_only_text('https://punchng.com/kuje-invasion-iswap-claims-responsibility-frees-kaduna-train-attack-masterminds/')"
   ]
  },
  {
   "cell_type": "code",
   "execution_count": 4,
   "id": "7c9225a0",
   "metadata": {},
   "outputs": [
    {
     "data": {
      "text/plain": [
       "('Kuje invasion: ISWAP claims responsibility, frees Kaduna train attack masterminds',\n",
       " 'Breaking News Ogun workers suspend strike after four days Kindly share this story: A section of Kuje prison wall pulled down using explosives • 15 train attack masterminds escape\\n • 49 B’Haram leaders, 237 others freed\\n • Over 100 soldiers, DSS, NSCDC operatives guarding bombed facility\\n • Buhari laments intelligence failure as sources allege official complicity Scores of gunmen believed to be terrorists on Tuesday night bombed the Kuje Medium Security Custodial Centre, Abuja, which was being guarded by dozens of soldiers, Department of State operatives, police officers and Nigeria Security and Civil Defence Corps personnel.\\n During the attack which began around 10:22 pm, the terrorists released 600 inmates, including 15 deadly Boko Haram commanders who masterminded the March 28 attack on the Kaduna-Abuja train at Katari, Kaduna, in which eight persons were killed and over 68 passengers kidnapped.\\n The Islamic State West Africa Province claimed responsibility for the attack in a 30-second video which showed the gunmen setting ablaze vehicles parked in the facility. The spokesman, Nigeria Correctional Service, Umar Abubakar, confirmed that an NSCDC officer, Insp. Illyasu Abraham, three terrorists and four inmates died in the incident.\\n The Kuje attack came barely hours after a convoy of cars carrying the Advance Team of security guards, protocol and media officers ahead of the President’s trip to Daura for Sallah, came under a terrorist attack.\\n Findings by The PUNCH on Wednesday indicated that the assailants bombed the fence before gaining entry into the facility and also razed seven vehicles, and destroyed other facilities.\\n The gunmen were said to have operated for about two hours without any response from the security agencies.\\n The incident sparked panic in Kuje, a satellite town where the correctional facility is located, and apprehension in the nation’s capital.\\n About 900 inmates are being held at the facility, including a former Commander, Intelligence Response Team, Abba Kyari, who is facing trial for drug dealing.\\n Also at the facility are the former governors of Plateau and Taraba States, Joshua Dariye, Jolly Nyame and others pardoned by the Council of State in April. They have not been released due to the delay in their approval letter from the Attorney-General of the Federation, Abubakar Malami.\\n The PUNCH reports that over 12 attacks and jailbreaks have occurred in the last five years in which no fewer than 3,500 inmates and hardened criminals have escaped.\\n Top security sources said the attackers, on gaining entrance into the custodial centre, made for a section of the expansive premises where the Boko Haram commanders were held.\\n Niger prison\\n They were said to have called out the names of the terrorists who were brought to the correctional centre from a special detention centre for insurgent fighters located in Shiroro, Niger state, a few weeks ago.\\n A source stated, “The deadly BH commanders were transferred from the detention facility in Shiroro for trial in Abuja. They were among the scores of terrorists arrested by the IRT when Kyari was the commander.\\n “On breaching the perimeters, the attackers went to a section of the custodial centre where their men were being held and called them out by name. That means they have advanced information about where the guys are. It is a coordinated raid with tacit official support.” Providing an insight into the prison attack, the source, an operation commander, explained that the abduction of the Kaduna train passengers was carried out by the terrorists to compel the Federal Government to release their commanders.\\n The PUNCH had reported that Kaduna kidnappers were demanding the release of 15 commanders, a request the government was reluctant to grant.\\n The official added, “With the escape of the BH fighters, the kidnappers may soon release the Kaduna train passengers because their demand has been met tacitly as their attack on the prison was made very easy.\\n “How could the attackers have succeeded if not for official compromise? This is a facility being guarded by a combined team of 176 Special Forces, Guards Brigade of the Nigerian Army; Police Mobile Squadron 21; DSS, and the armed squad of the Nigeria Correctional Service numbering about 100.\\n “They also have about four Armoured Personnel Carriers and close circuit tv cameras which covered the perimeter fence. There were also three security checkpoints before the facility.\\n “Besides these security layers, the Nigeria Air Force base, Nigeria Immigration Service and NSCDC headquarters are just a few kilometres from the prison. If these are not enough to deter or thwart the attack, there is a Police Counter-Terrorism Unit at Zuba and the SFU unit in Gwagwalada. How come all these security structures failed to thwart the assault?”\\n An impeccable security source observed that the standard security protocol dictates that the vicious commanders should not be kept together in a detention facility. He added, “Such vicious terrorist commanders are not supposed to be kept together at a facility. They should have been kept in twos in different states to make it hard, if not impossible for their compatriots to rescue all of them at a go.”\\n An NCoS Officer said the attack was successful because the soldiers were newly deployed to the prison facility.\\n The officer said, “I think why the attack was successful was because they just brought new military personnel and they are yet to settle down.\\xa0 Also, our men didn’t quickly get the reinforcement needed to repel them; it was after they left that we started receiving help. “\\n Emmanuel Jonny, a resident said the buildings in the area were riddled with bullets fired by the terrorists.\\n Buhari laments\\n Meanwhile, the President, Major General Muhammadu Buhari (retd.), on Wednesday, said he was disappointed by the loopholes in the country’s intelligence system which the terrorists exploited in attacking the prison facility.\\n According to a statement signed by his Senior Special Assistant on Media and Publicity, Garba Shehu, Buhari said this when he visited the Medium Security Custodial Centre, en route to the Presidential Wing of the Nnamdi Azikiwe International Airport, Abuja, from where he flew to Dakar, Senegal, ahead of the International Development Association for Africa Summit holding on Thursday (today). The statement is titled ‘Buhari visits Kuje, asks questions about intelligence and why prison defences failed to work.’\\n Speaking to journalists after the assessment, he said, “I am disappointed with the intelligence system. How can terrorists organize, have weapons, attack a security installation and get away with it?”\\n According to Shehu, the President was briefed about the attack by the Permanent Secretary, Ministry of Interior, Dr. Shuaib Belgore and the Controller-General of Nigerian Correctional Service, Haliru Nababa, who\\xa0 showed him the bombed-out section used to access the facility and the records office which was set on fire, after which the invaders launched an attack on all cells in which Boko Haram terrorists were held.  The President was told that none of the 64 terrorists is unaccounted for, but their records are available.\\n Buhari, who expressed shock over the scale and audacity of the attack queried: “How did the defences at the prison fail to prevent the attack? How many inmates were in the facility? How many of them can you account for? How many personnel did you have on duty? How many of them were armed? Were there guards on the watchtower? What did they do? Does the CCTV work?”\\n He was also informed that the security forces have recaptured 350 of the escapees while about 450 others are still unaccounted for, and that rapid work is underway to re-arrest the rest.\\n The President, accompanied by the Secretary to the Government of the Federation, Boss Mustapha, and his Chief of Staff, Prof. Ibrahim Gambari, said he is expecting “a comprehensive report” on the incident. Following the two attacks on the Presidential convoy and the prison, Nigerians condemned Buhari’s decision to proceed with his trip to Dakar.\\n But speaking to State House Correspondents, the President’s Special Adviser on Media and Publicity, Femi Adesina said it was expedient for Buhari to make the trip at such a time.\\n According to him, “Yes, the president should go because there’s an international conference meant for heads of states and presidents, he should attend.\\n “You should never give in to terrorists. The moment theories begin to stop you from doing things, then we might as well throw up our hands in surrender. The President should go ahead. Yes, it’s an international obligation.”\\n Addressing journalists at the custodial centre, the Minister of Defence, Maj Gen Bashir Magashi (retd.) confirmed that the 64 Boko Haram terrorists were freed from custody.\\n He said, “We are trying to see what we can do to see that all escapes within the prison accommodation are brought back to the prison yard. About 994 inmates, we have about 600 already inside now.\\n “Many people are being captured. The people who came to do this from the records belong to a particular group, from all indicators they are Boko haram. Presently we could not locate any of them. Currently, there are about 64 of them as inmates and we could not locate them.” Also, the\\xa0 Permanent Secretary of the Ministry of Interior, Dr Shuaib\\xa0 Belgore disclosed\\xa0 that those behind the attack were Boko Haram terrorists who came specifically for their members held in the custody, adding that reinforcement came when the terrorists\\xa0 were ‘halfway through to the attack.’\\n Train attackers\\n Mallam Tukur Mamu, the Media Consultant to controversial Islamic cleric, Sheikh Ahmad Gumi, fingered Ansaru terrorists who abducted the Kaduna train passengers as the attackers of the Kuje prisons.\\n Mamu said before the attack, he shared an intelligence report with the security agencies and a committee that was constituted by the Chief of Defence Staff, Gen. Lucky Irabor, but they allegedly failed to act.\\n He stated this in a statement in Kaduna on Wednesday, titled, ‘On fresh threat to start slaughtering victims of train attack and Kuje prison invasion: how I shared intelligence with authorities with no prompt action taken.’\\n The Publisher of Kaduna-based Desert Herald newspaper added that the renewed threat by the terror group to commence the killing of the train hostages was as the result of the failure of the Federal Government to take\\xa0 “a painful decision for the sake of the remaining 50 hostages in the terrorist den.”\\n He noted that perhaps this would be the last time he would “dabble” in the negotiation of the train hostages or share intelligence reports with the authorities concerning future attacks. This, he added, was because of the frustrations and failure of the relevant official stakeholders to take prompt and painful decisions in the interest of the nation.\\n He also said his life was under threat, not from the terrorists, but “within the corrupt society we are in.”\\n He said, “I can confirm without a doubt that the Kuje Correctional Centre attack was executed and coordinated by the same group that attacked the Abuja-Kaduna bound train because they gave indications of imminent attacks to that effect which I shared.”\\n Mamu added that the terror group requested for the release of 51 of their members but he single-handedly scaled the request to 10 and communicated the same with audio evidence to the relevant authorities.\\n However, he added that there was an unnecessary delay from the government giving the terrorists another chance to successfully carry out another attack.\\n He added, “For the records, they requested for the release of 51 of their members. But through the power of dialogue and engagement, I was able to singlehandedly scale that number to only 10 and communicated with audio backing the development to the relevant authorities.\\n “There was an unnecessary delay on giving them even precise feedback by the government and now they have not only succeeded in carrying out another successful attack that indicts the nature of our intelligence and capacity to respond promptly but has also succeeded in releasing dozens of their members which would have been averted if action has been taken to give them only 10 and secure the release of the train victims. “In all this risky, painful and frustrating engagement which government is yet to acknowledge and appreciate,\\xa0 I have more than 100 documented audios that I shared with the relevant authorities. For the purpose of this important press release and\\xa0 to authenticate my claims, I will also share four\\xa0 of the latest audios.”\\n On the train hostages, he said after the successful mission that led to the release of the 11 out of the 61 captives, he made up his mind to disengage from the negotiation.\\n He added, “This is probably the last I will ever dabble on the above subject matter because of the frustrations and failure of relevant official stakeholders to take prompt and painful decisions, in the interest of the citizens of a nation that has been consumed by insecurity and avoidable attacks.\\n “With all the billions in budgetary allocations on security, with instances of few becoming billionaires at the expense of innocent lives, we must accept the fact that the current system has collapsed.\\n “This is also to confirm to Nigerians that after unnecessary delays and despite the milestone we reached in efforts to secure the release of the remaining victims of Abuja-Kaduna train attack there was indeed a fresh threat by the abductors that they will start slaughtering their victims yesterday, Tuesday, 5th July 2022.”\\n Commenting on the attack, the Force Public Relations Officer, Muyiwa Adejobi told The PUNCH that the police have commenced an investigation in collaboration with the NCoS.\\n According to him, the police have deployed personnel as well as helicopters on an aerial surveillance of the prison area. He said “We are working with the Correctional Service and we have been able to re-arrest the fleeing inmates. We have done our deployment and we are still on the ground so that we will be able to have a detailed investigation into the incident.\\n “Our specialized units have been sent to the place to get more facts concerning the incident. We are working round the clock to make sure we get to the root of the matter.\\n “Whether this event or not, we will always fly our helicopters for area surveillance. Our pilots will still work to assist in area surveillance to see where the inmates will be hiding.”\\n A security expert, Kabir Adamu, said the security agencies possessed enough information to know that a facility housing high-profile inmates could be attacked.\\n A security analyst, Ben Okezie, described the incident as a national shame, calling on the Minister of Interior, Rauf Aregbesola, to resign “and hide his face in shame because he told us there will no attack on any correctional facility in the country but since he came on board, we have had several attacks.”\\n  Tags:  Kindly share this story:  All rights reserved. This material, and other digital content on this website, may not be reproduced, published, broadcast, rewritten or redistributed in whole or in part without prior express written permission from PUNCH. Contact:  theeditor[at]punchng.com   \\nBreaking News!!! Nigerians can now earn US Dollars legitimately. Participate in the Premium Domain Name business; the profit margin is mind-blowing. Click here to start.  \\npunchng.com © 1971- 2022 Punch Nigeria Limited ')"
      ]
     },
     "execution_count": 4,
     "metadata": {},
     "output_type": "execute_result"
    }
   ],
   "source": [
    "text"
   ]
  },
  {
   "cell_type": "markdown",
   "id": "6feedbe6",
   "metadata": {},
   "source": [
    " ### Number of Words - Original Text"
   ]
  },
  {
   "cell_type": "code",
   "execution_count": 5,
   "id": "34d1e6b8",
   "metadata": {},
   "outputs": [
    {
     "data": {
      "text/plain": [
       "'Kuje invasion: ISWAP claims responsibility, frees Kaduna train attack masterminds'"
      ]
     },
     "execution_count": 5,
     "metadata": {},
     "output_type": "execute_result"
    }
   ],
   "source": [
    "text[0]"
   ]
  },
  {
   "cell_type": "code",
   "execution_count": 6,
   "id": "58e309c0",
   "metadata": {},
   "outputs": [
    {
     "data": {
      "text/plain": [
       "2518"
      ]
     },
     "execution_count": 6,
     "metadata": {},
     "output_type": "execute_result"
    }
   ],
   "source": [
    "len(str.split(text[1]))"
   ]
  },
  {
   "cell_type": "markdown",
   "id": "ffc96766",
   "metadata": {},
   "source": [
    "### Summarization "
   ]
  },
  {
   "cell_type": "code",
   "execution_count": 7,
   "id": "eb41395c",
   "metadata": {},
   "outputs": [],
   "source": [
    "from gensim.summarization.summarizer import summarize\n",
    "from gensim.summarization import keywords"
   ]
  },
  {
   "cell_type": "markdown",
   "id": "472d7293",
   "metadata": {},
   "source": [
    "###  Printing the Summarized Text\n",
    "\n",
    "###  Method #1 - Word Count"
   ]
  },
  {
   "cell_type": "code",
   "execution_count": 8,
   "id": "c1612eaf",
   "metadata": {},
   "outputs": [
    {
     "name": "stdout",
     "output_type": "stream",
     "text": [
      "Title : Kuje invasion: ISWAP claims responsibility, frees Kaduna train attack masterminds\n",
      "Summary : \n",
      "('Kuje invasion: ISWAP claims responsibility, frees Kaduna train attack masterminds', 'Breaking News Ogun workers suspend strike after four days Kindly share this story: A section of Kuje prison wall pulled down using explosives • 15 train attack masterminds escape\\n • 49 B’Haram leaders, 237 others freed\\n • Over 100 soldiers, DSS, NSCDC operatives guarding bombed facility\\n • Buhari laments intelligence failure as sources allege official complicity Scores of gunmen believed to be terrorists on Tuesday night bombed the Kuje Medium Security Custodial Centre, Abuja, which was being guarded by dozens of soldiers, Department of State operatives, police officers and Nigeria Security and Civil Defence Corps personnel.\\n During the attack which began around 10:22 pm, the terrorists released 600 inmates, including 15 deadly Boko Haram commanders who masterminded the March 28 attack on the Kaduna-Abuja train at Katari, Kaduna, in which eight persons were killed and over 68 passengers kidnapped.\\n The Islamic State West Africa Province claimed responsibility for the attack in a 30-second video which showed the gunmen setting ablaze vehicles parked in the facility.\n"
     ]
    }
   ],
   "source": [
    "print(\"Title : \" + text[0])\n",
    "print(\"Summary : \")\n",
    "print(summarize(repr(text), word_count=100))\n",
    "# or use ratio from 0.1 to "
   ]
  },
  {
   "cell_type": "code",
   "execution_count": 9,
   "id": "207fbe74",
   "metadata": {},
   "outputs": [],
   "source": [
    "summarized_text = summarize(repr(text), word_count=100)"
   ]
  },
  {
   "cell_type": "markdown",
   "id": "91f7d1cb",
   "metadata": {},
   "source": [
    "### Number of Words - Summarized Text"
   ]
  },
  {
   "cell_type": "code",
   "execution_count": 10,
   "id": "174c9b1e",
   "metadata": {},
   "outputs": [
    {
     "data": {
      "text/plain": [
       "175"
      ]
     },
     "execution_count": 10,
     "metadata": {},
     "output_type": "execute_result"
    }
   ],
   "source": [
    "len(str.split(summarized_text))"
   ]
  },
  {
   "cell_type": "markdown",
   "id": "23dbc6bb",
   "metadata": {},
   "source": [
    "### Keywords"
   ]
  },
  {
   "cell_type": "code",
   "execution_count": 11,
   "id": "4d317269",
   "metadata": {},
   "outputs": [
    {
     "name": "stdout",
     "output_type": "stream",
     "text": [
      "attacked\n",
      "secure\n",
      "prisons\n",
      "terrorist\n",
      "office\n",
      "buhari\n",
      "official\n",
      "stated\n",
      "said\n",
      "train\n",
      "nigeria\n",
      "facilities\n",
      "audios\n",
      "working\n",
      "specialized\n",
      "international\n",
      "came\n",
      "personnel\n",
      "defences\n",
      "intelligence\n",
      "kaduna\n",
      "releasing\n",
      "commander\n",
      "inmates\n",
      "kuje\n",
      "guards\n",
      "force\n",
      "new\n",
      "haram\n",
      "service\n",
      "general\n",
      "team\n",
      "correctional\n",
      "express\n",
      "source\n",
      "police\n",
      "abubakar\n",
      "mamu\n",
      "operation\n",
      "nigerians\n",
      "vehicles\n",
      "centre\n",
      "gen\n"
     ]
    }
   ],
   "source": [
    "#print('\\nKeywords:')\n",
    "print(keywords(text[1], ratio=0.1, lemmatize=True))"
   ]
  },
  {
   "cell_type": "code",
   "execution_count": null,
   "id": "6a1f27ad",
   "metadata": {},
   "outputs": [],
   "source": []
  }
 ],
 "metadata": {
  "kernelspec": {
   "display_name": "Python 3 (ipykernel)",
   "language": "python",
   "name": "python3"
  },
  "language_info": {
   "codemirror_mode": {
    "name": "ipython",
    "version": 3
   },
   "file_extension": ".py",
   "mimetype": "text/x-python",
   "name": "python",
   "nbconvert_exporter": "python",
   "pygments_lexer": "ipython3",
   "version": "3.9.7"
  }
 },
 "nbformat": 4,
 "nbformat_minor": 5
}
